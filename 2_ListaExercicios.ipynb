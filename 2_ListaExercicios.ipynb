{
  "nbformat": 4,
  "nbformat_minor": 0,
  "metadata": {
    "colab": {
      "provenance": [],
      "authorship_tag": "ABX9TyOKAs0FLVluerYlGMF9O1a/"
    },
    "kernelspec": {
      "name": "python3",
      "display_name": "Python 3"
    },
    "language_info": {
      "name": "python"
    }
  },
  "cells": [
    {
      "cell_type": "markdown",
      "source": [
        "#exercicio 1\n",
        "Faça um algoritmo em Python para ler dois valores numéricos e apresentar a diferença do maior\n",
        "pelo menor."
      ],
      "metadata": {
        "id": "lOUn-xXX1tKr"
      }
    },
    {
      "cell_type": "code",
      "source": [
        "n1 = float(input(\"Digite um número: \"))\n",
        "n2 = float(input(\"Digite outro número: \"))\n",
        "if n1 > n2:\n",
        "    print(\"A diferença entre \",n1,\" e \",n2,\" é \",n1 - n2)\n",
        "else:\n",
        "    print(\"A diferença entre \",n2,\" e \",n1,\" é \",n2 - n1)\n"
      ],
      "metadata": {
        "id": "b3FWXHc5tYxw"
      },
      "execution_count": null,
      "outputs": []
    },
    {
      "cell_type": "markdown",
      "source": [
        "#exercicio 2\n",
        "Faça um algoritmo em Python para ler dois números. Se os números forem iguais escrever a\n",
        "mensagem: \"NÚMEROS IGUAIS\" e encerrar a execução; caso contrário, escrever o de maior\n",
        "valor."
      ],
      "metadata": {
        "id": "CRY0-c7St_mZ"
      }
    },
    {
      "cell_type": "code",
      "source": [
        "n1 = float(input(\"Digite um número: \"))\n",
        "n2 = float(input(\"Digite outro número: \"))\n",
        "if n1 == n2:\n",
        "  print(\"NUMEROS IGUAIS\")\n",
        "else:\n",
        "  if n1 > n2:\n",
        "    print(n1,\"é o maior valor\")\n",
        "  else:\n",
        "    print(n2,\"é o maior valor\")"
      ],
      "metadata": {
        "id": "3lmbX6ttuEcU"
      },
      "execution_count": null,
      "outputs": []
    },
    {
      "cell_type": "markdown",
      "source": [
        "#exercicio 3\n",
        "Faça um algoritmo em Python para ler dois valores: NUM1 e NUM2, e se NUM1 for maior que\n",
        "NUM2 executa a soma de NUM1 e NUM2; caso contrário, executa uma subtração."
      ],
      "metadata": {
        "id": "HUi8Vy4rubke"
      }
    },
    {
      "cell_type": "code",
      "source": [
        "n1 = float(input(\"Digite um número\"))\n",
        "n2 = float(input(\"Digite outro número\"))\n",
        "if n1 > n2:\n",
        "  print(\"A soma de\",n1,\"por\",n2,\"é\",n1 + n2)\n",
        "else:\n",
        "  print(\"A subtração de\",n1,\"por\",n2,\"é\",n1 - n2)"
      ],
      "metadata": {
        "id": "Ym7iL8nOufsj"
      },
      "execution_count": null,
      "outputs": []
    },
    {
      "cell_type": "markdown",
      "source": [
        "#exercicio 4\n",
        "O hotel Pica-Pau cobra R$ 150,00 a diária e mais uma taxa de serviços. A taxa de serviços é de:\n",
        "\n",
        "● R$ 15 por dia, se número de diárias <15\n",
        "\n",
        "● R$ 10 por dia, se número de diárias =15\n",
        "\n",
        "● R$ 5 por dia, se número de diárias >15\n",
        "\n",
        "Faça um algoritmo em Python que lê o número de diárias e calcula o total a ser pago pelo cliente."
      ],
      "metadata": {
        "id": "sY4N9iUBu_x0"
      }
    },
    {
      "cell_type": "code",
      "source": [
        "dias = int(input(\"Informe quantos dia você ficou hospedado\"))\n",
        "diaria = 150\n",
        "if dias < 15:\n",
        "  print(\"O total a ser pago é de R$\",diaria + (15 * dias))\n",
        "else:\n",
        "  if dias == 15:\n",
        "    print(\"O total a ser pago é de R$\",diaria + (10 * dias))\n",
        "  else:\n",
        "    print(\"O total a ser pago é de R$\",diaria + (5 * dias))\n"
      ],
      "metadata": {
        "id": "VURnY98cvJkD"
      },
      "execution_count": null,
      "outputs": []
    },
    {
      "cell_type": "markdown",
      "source": [
        "#exercicio 5\n",
        "Escrever um programa em Python que lê as 3 notas obtidas por ele em provas. Para\n",
        "cada aluno, calcular a média de aproveitamento, usando a fórmula:\n",
        "\n",
        "MA = (Nl + N2 + N3)\n",
        "3\n",
        "\n",
        "A atribuição de conceitos obedece à tabela abaixo:\n",
        "Média de Aproveitamento Conceito\n",
        "  >= 9.0 A\n",
        "\n",
        "  >= 7.5 e < 9.0 B\n",
        "\n",
        "  >= 6.0 e < 7.5 C\n",
        "\n",
        "  >= 4.0 e < 6.0 D\n",
        "\n",
        "  < 4.0 E\n",
        "\n",
        "\n",
        "O programa deve escrever as notas, a média de aproveitamento, o conceito\n",
        "correspondente e a mensagem: \"APROVADO\" se o conceito for A, B, ou C e\n",
        "\"REPROVADO\" se conceito for D ou E."
      ],
      "metadata": {
        "id": "31s1LLhtvi8c"
      }
    },
    {
      "cell_type": "code",
      "source": [
        "n1 = float(input(\"Digite a primeira nota\\n\"))\n",
        "n2 = float(input(\"Digite a segunda nota\\n\"))\n",
        "n3 = float(input(\"Digite a terceira nota\\n\"))\n",
        "conceito = \"\"\n",
        "ma = (n1 + n2 + n3) / 3\n",
        "if ma >= 9:\n",
        "  conceito = \"A\"\n",
        "else:\n",
        "  if ma >= 7.5 and ma < 9:\n",
        "    conceito = \"B\"\n",
        "  else:\n",
        "    if ma >= 6 and ma < 7.5:\n",
        "      conceito = \"C\"\n",
        "    else:\n",
        "      if ma >= 4 and ma < 6:\n",
        "        conceito = \"D\"\n",
        "      else:\n",
        "        conceito = \"E\"\n",
        "if conceito == \"A\" or conceito == \"B\" or conceito == \"C\":\n",
        "  print(\"Primeira nota é\",n1,\" Segunda nota é \",n2,\" e Terceira nota é\",n3)\n",
        "  print(\"\\nMédia de aproveitamento: \",round(ma,2))\n",
        "  print(\"\\nConceito: \",conceito)\n",
        "  print(\"\\nAPROVADO\")\n",
        "else:\n",
        "  print(\"Primeira nota é\",n1,\" Segunda nota é \",n2,\" e Terceira nota é\",n3)\n",
        "  print(\"\\nMédia de aproveitamento: \",round(ma,2))\n",
        "  print(\"\\nConceito: \",conceito)\n",
        "  print(\"\\nREPROVADO\")"
      ],
      "metadata": {
        "id": "M-zYRpQYvxGu"
      },
      "execution_count": null,
      "outputs": []
    },
    {
      "cell_type": "markdown",
      "source": [
        "#exercicio 6\n",
        "Faça um programa em Python que leia a altura e o sexo de uma pessoa, calcule seu\n",
        "peso ideal, utilizando as seguintes fórmulas:\n",
        "\n",
        "● homens : (72,7*altura) –58\n",
        "\n",
        "● mulheres : (62,1*altura) – 44,7"
      ],
      "metadata": {
        "id": "4i77cP8SyXk7"
      }
    },
    {
      "cell_type": "code",
      "source": [
        "altura = float(input(\"Informe sua altura \\n\"))\n",
        "sexo = input(\"Informe seu sexo M para masculino e F para feminino \\n\")\n",
        "if sexo == \"M\" or sexo == \"m\":\n",
        "  print(\"Seu peso ideal é \",round((72.7 * altura) - 58,2))\n",
        "if sexo == \"F\" or sexo==\"f\":\n",
        "  print(\"Seu peso ideal é \",round((62.1 * altura) - 44.7,2))\n"
      ],
      "metadata": {
        "id": "nzBHraphylpz"
      },
      "execution_count": null,
      "outputs": []
    },
    {
      "cell_type": "markdown",
      "source": [
        "#exercicio 7\n",
        "Escrever um programa em Python que lê os seguintes dados de um funcionário: o\n",
        "número de horas trabalhadas e o valor que recebe por hora. Calcular e escrever, o salário\n",
        "bruto (SB) e o valor de desconto do Imposto de Renda (IR) como segue:\n",
        "\n",
        "● Se SB > 3.500,00 então IR = 15% do SB\n",
        "\n",
        "● Se SB > 1.500,00 e SB <= 3.500,00 então IR = 8% do SB\n",
        "\n",
        "● Se SB <= 1.500,00 então IR = 0.\n",
        "\n"
      ],
      "metadata": {
        "id": "tXw8vMAwz2X0"
      }
    },
    {
      "cell_type": "code",
      "source": [
        "nhoras = float(input(\"informe a quantidade de horas trabalhadas \\n\"))\n",
        "valorhora = float(input(\"Informe o valor recebido por horas \\n\"))\n",
        "sb = nhoras * valorhora\n",
        "if sb > 3500:\n",
        "  IR = sb * 0.15\n",
        "elif sb > 1500 and sb <= 3500:\n",
        "  IR = sb * 0.8\n",
        "else:\n",
        "  IR = 0\n",
        "print (\"O salário bruto é R$\",sb, \"após o desconto fica R$\", sb-IR)"
      ],
      "metadata": {
        "id": "D3FNBw-nz4bz"
      },
      "execution_count": null,
      "outputs": []
    }
  ]
}