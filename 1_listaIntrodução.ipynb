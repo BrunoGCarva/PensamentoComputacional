{
  "nbformat": 4,
  "nbformat_minor": 0,
  "metadata": {
    "colab": {
      "provenance": [],
      "authorship_tag": "ABX9TyPlfn9PP0SjbmgLG/KzfnTo",
      "include_colab_link": true
    },
    "kernelspec": {
      "name": "python3",
      "display_name": "Python 3"
    },
    "language_info": {
      "name": "python"
    }
  },
  "cells": [
    {
      "cell_type": "markdown",
      "metadata": {
        "id": "view-in-github",
        "colab_type": "text"
      },
      "source": [
        "<a href=\"https://colab.research.google.com/github/BrunoGCarva/PensamentoComputacional/blob/main/1_listaIntrodu%C3%A7%C3%A3o.ipynb\" target=\"_parent\"><img src=\"https://colab.research.google.com/assets/colab-badge.svg\" alt=\"Open In Colab\"/></a>"
      ]
    },
    {
      "cell_type": "markdown",
      "source": [
        "#Exercicio 1\n"
      ],
      "metadata": {
        "id": "3PjbWZEc8ng6"
      }
    },
    {
      "cell_type": "code",
      "execution_count": null,
      "metadata": {
        "colab": {
          "base_uri": "https://localhost:8080/"
        },
        "collapsed": true,
        "id": "0DSz7W9-8fh9",
        "outputId": "9d8a1f0b-123f-407c-9779-d572b8d61aea"
      },
      "outputs": [
        {
          "output_type": "stream",
          "name": "stdout",
          "text": [
            "Digite um numero: 5\n",
            "O quadrado de 5  é  25\n",
            "A raiz de 5  é  2.23606797749979\n",
            "a divisao de 25  por  2.23606797749979  é  11.180339887498947\n"
          ]
        }
      ],
      "source": [
        "import math\n",
        "n1 = int(input(\"Digite um numero: \"))\n",
        "quadrado = 0\n",
        "quadrado = (n1 * n1)\n",
        "raiz = math.sqrt(n1)\n",
        "quadra = quadrado/raiz\n",
        "print(\"O quadrado de\" , n1 , \" é \" ,quadrado)\n",
        "\n",
        "print(\"A raiz de\" , n1 , \" é \" , raiz)\n",
        "print(\"a divisao de\" ,quadrado, \" por \" ,raiz, \" é \",quadra  )"
      ]
    },
    {
      "cell_type": "markdown",
      "source": [
        "#exercicio 2\n"
      ],
      "metadata": {
        "id": "VvLJ3T2gAF1C"
      }
    },
    {
      "cell_type": "code",
      "source": [
        "n1 = float(input(\"Informe o preço do computador: \"))\n",
        "imposto = 30\n",
        "revenda = 10\n",
        "imp = n1*imposto/100\n",
        "rev = n1*revenda/100\n",
        "valor_final = n1+imp+rev\n",
        "print(\"O valor final do computador é \", round(valor_final,2))\n",
        "\n",
        "\n"
      ],
      "metadata": {
        "colab": {
          "base_uri": "https://localhost:8080/"
        },
        "id": "p5sOtZTQAIO6",
        "outputId": "17b2aa28-d3af-4136-fd03-c72e719d5cf5"
      },
      "execution_count": null,
      "outputs": [
        {
          "output_type": "stream",
          "name": "stdout",
          "text": [
            "Informe o preço do computador: 1234.78\n",
            "O valor final do computador é  1728.69\n"
          ]
        }
      ]
    },
    {
      "cell_type": "markdown",
      "source": [
        "#exercicio 3\n"
      ],
      "metadata": {
        "id": "dofJaDphA1X6"
      }
    },
    {
      "cell_type": "code",
      "source": [
        "n1 = int(input(\"informe o primeiro numero:\\n\"))\n",
        "n2 = int(input(\"informe o segundo numero:\\n\"))\n",
        "n3 = int(input(\"informe o terceiro numero:\\n\"))\n",
        "media = (n1+n2+n3)/3\n",
        "print(\"A media dos numeros é \", media)"
      ],
      "metadata": {
        "colab": {
          "base_uri": "https://localhost:8080/"
        },
        "id": "FdehxVMQBJfS",
        "outputId": "25faba6d-5334-43e0-fdb2-063ab3cba22d"
      },
      "execution_count": null,
      "outputs": [
        {
          "output_type": "stream",
          "name": "stdout",
          "text": [
            "informe o primeiro numero6\n",
            "informe o segundo numero6\n",
            "informe o terceiro numero6\n",
            "A media dos numeros é  6.0\n"
          ]
        }
      ]
    },
    {
      "cell_type": "markdown",
      "source": [
        "#exercicio 4\n",
        "Fazer um algoritmo em Python que calcule o número de litros de combustível gastos em uma viagem,\n",
        "sabendo-se que o carro faz 12 km com um litro. Deverão ser lidos o tempo gasto na viagem e a velocidade\n",
        "média. Aplicar as seguintes fórmulas:\n",
        "- Distância = tempo gasto x velocidade média\n",
        "- litros gastos = distância / 12\n"
      ],
      "metadata": {
        "id": "Qwvnho_5Be9R"
      }
    },
    {
      "cell_type": "code",
      "source": [
        "velmed = float(input(\"Informe a velocidade média: \"))\n",
        "tempo = float(input(\"Informe o tempo gasto na viagem:\"))\n",
        "dis = 0\n",
        "dis= tempo*velmed\n",
        "litros = dis/12\n",
        "\n",
        "print(\"A quantidade de litros usado na viagem é\", litros)"
      ],
      "metadata": {
        "colab": {
          "base_uri": "https://localhost:8080/"
        },
        "id": "-bmk1UXUBhZd",
        "outputId": "f2c00b90-a123-407c-a474-7f6babb04000"
      },
      "execution_count": null,
      "outputs": [
        {
          "output_type": "stream",
          "name": "stdout",
          "text": [
            "Informe a velocidade média: 435\n",
            "Informe o tempo gasto na viagem:534\n",
            "A quantidade de litros usado na viagem é 19357.5\n"
          ]
        }
      ]
    },
    {
      "cell_type": "markdown",
      "source": [
        "#exercicio 5\n",
        "Faça em Python um algoritmo que leia dois números inteiros (x e y), e calcule o quociente e o resto da\n",
        "divisão de x por y e escreva os resultados."
      ],
      "metadata": {
        "id": "k-UvhqjWCj2h"
      }
    },
    {
      "cell_type": "code",
      "source": [
        "x = int(input(\"Informe o primeiro numero: \"))\n",
        "y = int(input(\"Informe o segundo numero: \"))\n",
        "resto = x%y\n",
        "quociente = x//y\n",
        "print(\"O resto da divisao é \", resto)\n",
        "print(\"O quociente da divisao é \", quociente)\n"
      ],
      "metadata": {
        "id": "CpW6xm35CGoO"
      },
      "execution_count": null,
      "outputs": []
    },
    {
      "cell_type": "markdown",
      "source": [
        "#exercicio 6\n",
        "Escreva em python um algoritmo que leia três números reais (a, b, c), e calcule a média aritmética. Após\n",
        "os cálculos, os resultados deverão ser escritos."
      ],
      "metadata": {
        "id": "VmRw8OFmDFmn"
      }
    },
    {
      "cell_type": "code",
      "source": [
        "a = float(input(\"Digite o primeiro número\\n\"))\n",
        "b = float(input(\"Digite o segundo número\\n\"))\n",
        "c = float(input(\"digite o terceiro número\\n\"))\n",
        "\n",
        "media= (a+b+c)/3\n",
        "print(\"A média dos três numeros é \", media)"
      ],
      "metadata": {
        "id": "696S0BMPDKep"
      },
      "execution_count": null,
      "outputs": []
    },
    {
      "cell_type": "markdown",
      "source": [
        "#exercicio 7\n",
        "Uma loja de equipamentos de informática resolveu incentivar os seus funcionários a venderem no mês\n",
        "março. Para cada produto vendido, a loja dará uma bonificação de 1%, sobre o salário do funcionário.\n",
        "Desta forma, o funcionário que vender 10 produtos, terá um acréscimo de 10% em seu salário. Faça um\n",
        "algoritmo em Python que leia o código, o nome e o salário fixo do funcionário, além do número de\n",
        "produtos vendidos por ele no mês, e calcule o salário final do funcionário. Por fim, o algoritmo deve\n",
        "escrever o código e o nome do funcionário, juntamente com o seu salário final."
      ],
      "metadata": {
        "id": "OSG0MaGjD887"
      }
    },
    {
      "cell_type": "code",
      "source": [
        "codigo = input(\"Informe seu código\\n\")\n",
        "nome = input(\"Informe seu nome \\n\")\n",
        "sal = float(input(\"informe seu sálario\\n\"))\n",
        "nvend = int(input(\"informe o número de produtos vendidos\\n\"))\n",
        "bon = sal*(nvend/100)\n",
        "salf=sal+bon\n",
        "print(\"O salário final do\",nome,\" e cujo código é\",codigo,\" é R$\",round(salf,2))"
      ],
      "metadata": {
        "colab": {
          "base_uri": "https://localhost:8080/"
        },
        "id": "2ikVCzu6EHGN",
        "outputId": "0be735a7-5422-4f79-a470-e283ec64860e"
      },
      "execution_count": null,
      "outputs": [
        {
          "output_type": "stream",
          "name": "stdout",
          "text": [
            "Informe seu código\n",
            "1225\n",
            "Informe seu nome \n",
            "bruno\n",
            "informe seu sálario\n",
            "1200\n",
            "informe o número de produtos vendidos\n",
            "2\n",
            "O salário final do bruno  e cujo código é 1225  é R$ 1224.0\n"
          ]
        }
      ]
    },
    {
      "cell_type": "markdown",
      "source": [
        "#exercicio 8\n",
        "Construa um algoritmo em Python que calcule a quantidade de latas de tintas necessárias e o custo para\n",
        "pintar tanques cilíndricos de combustível, onde são fornecidos a altura e o raio deste cilindro. Sabendo\n",
        "que:\n",
        "*   a lata de tinta custa R$ 150,00\n",
        "*   cada lata contém 5 litros;\n",
        "*   cada litro de tinta pinta 3 metros quadrados;\n",
        "*   a área do total cilindro é dada por área da base + área lateral;\n",
        "*   a área da base do cilindro é dada π*raio2\n",
        "*   a área da lateral é 2*π*raio*altura.\n",
        "*   Lembrando que π (pi) vale 3,14.\n"
      ],
      "metadata": {
        "id": "awhcLoM9GhG6"
      }
    },
    {
      "cell_type": "code",
      "source": [
        "import math\n",
        "altura = float(input(\"Informe a altura do cilindro\\n\"))\n",
        "raio = float(input(\"Informe o raio do cilindro\\n\"))\n",
        "area_base = 3.14*(raio**2)\n",
        "area_lateral = 2*3.14*raio*altura\n",
        "area_total = area_base + area_lateral\n",
        "litros = area_total/3\n",
        "lata= math.ceil(litros/5)\n",
        "valor = lata*150\n",
        "print(\"O valor para pintar todo o cilindro é R$\",round(valor,2))"
      ],
      "metadata": {
        "id": "nSUDz6GOG0tm",
        "colab": {
          "base_uri": "https://localhost:8080/"
        },
        "outputId": "28962c00-43bb-4879-dcd4-db9ade795f2d"
      },
      "execution_count": null,
      "outputs": [
        {
          "output_type": "stream",
          "name": "stdout",
          "text": [
            "Informe a altura do cilindro\n",
            "10.5\n",
            "Informe o raio do cilindro\n",
            "2.5\n",
            "O valor para pintar todo o cilindro é R$ 1950\n"
          ]
        }
      ]
    },
    {
      "cell_type": "markdown",
      "source": [
        "#Exercício 9\n",
        "Elabore um algoritmo em Python para calcular e escrever o preço final de um computador, sendo\n",
        "fornecido o preço de fábrica. O preço final do computador é calculado com base nos adicionais 45 % de\n",
        "imposto e 28 % de revenda sobre o preço de fábrica."
      ],
      "metadata": {
        "id": "Bm4pzkROON5G"
      }
    },
    {
      "cell_type": "code",
      "source": [
        "precofab = float(input(\"Informe o preço do computador\\n\"))\n",
        "imposto = precofab*0.45\n",
        "revenda = precofab*0.28\n",
        "precofinal = precofab+imposto+revenda\n",
        "print(\"O preço final do computador ficará\",precofinal)"
      ],
      "metadata": {
        "id": "QRiU9u1nOSGG"
      },
      "execution_count": null,
      "outputs": []
    },
    {
      "cell_type": "markdown",
      "source": [
        "#exercicio 10\n",
        "Uma revendedora de carros usados paga aos seus funcionários vendedores, um salário fixo por mês, mais\n",
        "uma comissão para cada carro vendido. Escreva um algoritmo em Python que leia o número do vendedor,o seu salário fixo, o número de carros por ele vendidos, e o valor que recebe por carro vendido, e calcule o\n",
        "salário mensal do vendedor, escrevendo-o juntamente com o seu número de identificação."
      ],
      "metadata": {
        "id": "kN35mYWyOwfd"
      }
    },
    {
      "cell_type": "code",
      "source": [
        "nvend = input(\"Informe o código do vendedor\\n\")\n",
        "sal = float(input(\"Informe seu sálario mensal:\\n\"))\n",
        "contcar = int(input(\"Informe quantos carros foram vendidos:\\n\"))\n",
        "valcar = float(input(\"informe quanto recebe por carro vendido:\\n\"))\n",
        "vendaextra = valcar * contcar\n",
        "salfinal = sal + vendaextra\n",
        "print(\"O salário final do vendedor cujo código é\",nvend,\"é R$\",salfinal)"
      ],
      "metadata": {
        "id": "s-IZOPw8O5eV"
      },
      "execution_count": null,
      "outputs": []
    },
    {
      "cell_type": "markdown",
      "source": [
        "#Exercicio 11\n",
        "Uma empresa, para emitir a sua folha de pagamento mensal, trabalha com os seguintes dados:\n",
        "Relativos ao Sistema de Pagamentos\n",
        "Valor da Hora Normal = R$ 8,00\n",
        "Valor da Hora Extra = R$ 9,50\n",
        "Valor do Acréscimo por Dependente = RS 2,50\n",
        "Relativos a cada Funcionário\n",
        "Número de Identificação\n",
        "Nome\n",
        "Número de horas normais trabalhadas\n",
        "Número de horas extras trabalhadas\n",
        "Número de dependentes\n",
        "O cálculo do salário de cada funcionário é feito em 3 etapas:\n",
        "Etapa 1 : Cálculo do Salário Bruto\n",
        "SALARIO BRUTO = Valor Total de Horas Normais + Valor Total de Horas Extras + Valor Total de\n",
        "Dependentes\n",
        "Etapa 2 : Descontos\n",
        "Todos os funcionários são isentos de imposto de renda, e descontam 5% do salário bruto para o INSS.\n",
        "Etapa 3 : Salário Líquido\n",
        "SALARIO LÍQUIDO = SALARIO BRUTO - DESCONTO\n",
        "Escrever um algoritmo em Python que leia os dados referentes ao funcionário, calcule e escreva o\n",
        "salário líquido do funcionário da empresa. Obs.: Além do salário líquido, escreva o número de\n",
        "identificação e o nome do funcionário.\n"
      ],
      "metadata": {
        "id": "ctw7ddMFQhjJ"
      }
    },
    {
      "cell_type": "code",
      "source": [
        "nident = input(\"Informe  o seu número de identificação:\\n\")\n",
        "nome = input(\"Informe seu nome:\\n\")\n",
        "nhorast = float(input(\"Informe o número de horas normais trabalhadas:\\n\"))\n",
        "nhorae = float(input(\"Informe o número de horas extras trabalhadas:\\n\"))\n",
        "ndep = float(input(\"Informe o número de dependentes:\\n\"))\n",
        "salb = (nhorast*8.00) + (nhorae * 9.50) + (ndep * 2.50)\n",
        "desc = salb - salb*(5/100)\n",
        "saliq = salb - desc\n",
        "print(\"O funcionário \",nome, \"cuja identificação é \",nident, \"têm o salário de R$\",round(saliq,2))"
      ],
      "metadata": {
        "colab": {
          "base_uri": "https://localhost:8080/"
        },
        "id": "E7OUfUDvQscz",
        "outputId": "141783bb-7e35-40ed-f982-8b045088161b"
      },
      "execution_count": null,
      "outputs": [
        {
          "output_type": "stream",
          "name": "stdout",
          "text": [
            "Informe  o seu número de identificação:\n",
            "bruno\n",
            "Informe seu nome:\n",
            "bruno\n",
            "Informe o número de horas normais trabalhadas:\n",
            "5\n",
            "Informe o número de horas extras trabalhadas:\n",
            "5\n",
            "Informe o número de dependentes:\n",
            "5\n",
            "O funcionário  bruno cuja identificação é  bruno têm o salário de R$ 5.0\n"
          ]
        }
      ]
    }
  ]
}