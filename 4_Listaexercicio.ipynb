{
  "nbformat": 4,
  "nbformat_minor": 0,
  "metadata": {
    "colab": {
      "provenance": [],
      "authorship_tag": "ABX9TyODEZ1gdXgsFx74A1T4oc1Q"
    },
    "kernelspec": {
      "name": "python3",
      "display_name": "Python 3"
    },
    "language_info": {
      "name": "python"
    }
  },
  "cells": [
    {
      "cell_type": "markdown",
      "source": [
        "#exercicio 1\n",
        "Faça um algoritmo em Python que leia a nota de vários alunos de uma turma. Ao final, deve ser\n",
        "escrita a média geral da turma. A leitura das médias somente encerra quando uma nota negativa\n",
        "for digitada."
      ],
      "metadata": {
        "id": "UmHHmqVFCXCo"
      }
    },
    {
      "cell_type": "code",
      "execution_count": null,
      "metadata": {
        "colab": {
          "base_uri": "https://localhost:8080/"
        },
        "id": "rqDnksHACVyx",
        "outputId": "83a8e5af-ae71-485d-8a3a-057de07124bd"
      },
      "outputs": [
        {
          "output_type": "stream",
          "name": "stdout",
          "text": [
            "Digite a nota do aluno:10\n",
            "Digite a nota do aluno:0\n",
            "Digite a nota do aluno:8\n",
            "Digite a nota do aluno:7\n",
            "Digite a nota do aluno:-2\n",
            "A média da turma é 6.25\n"
          ]
        }
      ],
      "source": [
        "n = 0\n",
        "s = 0\n",
        "m = 0\n",
        "cont = 0\n",
        "while n >= 0:\n",
        "  n = float(input(\"Digite a nota do aluno:\"))\n",
        "  if n >= 0:\n",
        "    s = s + n\n",
        "    cont = cont + 1\n",
        "m = s / cont\n",
        "print(\"A média da turma é\", m)"
      ]
    },
    {
      "cell_type": "markdown",
      "source": [
        "#exercicio 2\n",
        "Faça um programa em Python para repetir a leitura de um número enquanto o valor fornecido for\n",
        "diferente de 0. Para cada número fornecido, escrever se ele é NEGATIVO ou POSITIVO. Quando\n",
        "o número 0 for fornecido o algoritmo deve encerrar informando o usuário."
      ],
      "metadata": {
        "id": "vJBTQcC2DxO1"
      }
    },
    {
      "cell_type": "code",
      "source": [
        "n = 1\n",
        "while n != 0:\n",
        "  n = int(input(\"Digite um número: \\n\"))\n",
        "  if n < 0:\n",
        "    print(\"Negativo\")\n",
        "  else:\n",
        "    print(\"Positivo\")\n",
        "  if n == 0:\n",
        "    print (\"Programa encerrou\")\n",
        "    break"
      ],
      "metadata": {
        "colab": {
          "base_uri": "https://localhost:8080/"
        },
        "id": "dkm67TbqD0H7",
        "outputId": "766b39bd-a50c-4c52-9a6d-ff7ecfc79290"
      },
      "execution_count": null,
      "outputs": [
        {
          "output_type": "stream",
          "name": "stdout",
          "text": [
            "Digite um número: \n",
            "1\n",
            "Positivo\n",
            "Digite um número: \n",
            "-1\n",
            "Negativo\n",
            "Digite um número: \n",
            "8\n",
            "Positivo\n",
            "Digite um número: \n",
            "1111\n",
            "Positivo\n",
            "Digite um número: \n",
            "-100\n",
            "Negativo\n",
            "Digite um número: \n",
            "0\n",
            "Positivo\n",
            "Programa encerrou\n"
          ]
        }
      ]
    },
    {
      "cell_type": "markdown",
      "source": [
        "exercicio 3\n",
        "3. Faça um programa em Python para ler uma quantidade indeterminada de valores inteiros. Para\n",
        "cada valor fornecido apresentar uma mensagem que indique se o valor fornecido é PAR ou\n",
        "ÍMPAR. O programa será encerrado imediatamente após a leitura de um valor NULO (zero) ou\n",
        "NEGATIVO."
      ],
      "metadata": {
        "id": "IUPtYCdMEVLC"
      }
    },
    {
      "cell_type": "code",
      "source": [
        "n = 1\n",
        "while n > 0:\n",
        "  n = int(input(\"Digite um número inteiro \\n\"))\n",
        "  if n <= 0:\n",
        "    print(\"Programa encerrado\")\n",
        "    break\n",
        "  elif n % 2 == 0:\n",
        "    print(\"PAR\")\n",
        "  elif n % 2 != 0:\n",
        "    print(\"IMPAR\")\n"
      ],
      "metadata": {
        "colab": {
          "base_uri": "https://localhost:8080/"
        },
        "id": "hNX8SQiPEjxS",
        "outputId": "af6616d2-36a1-4c81-c03b-97466765b914"
      },
      "execution_count": null,
      "outputs": [
        {
          "output_type": "stream",
          "name": "stdout",
          "text": [
            "Digite um número inteiro \n",
            "1\n",
            "IMPAR\n",
            "Digite um número inteiro \n",
            "2\n",
            "PAR\n",
            "Digite um número inteiro \n",
            "3\n",
            "IMPAR\n",
            "Digite um número inteiro \n",
            "4\n",
            "PAR\n",
            "Digite um número inteiro \n",
            "8\n",
            "PAR\n",
            "Digite um número inteiro \n",
            "6\n",
            "PAR\n",
            "Digite um número inteiro \n",
            "11\n",
            "IMPAR\n",
            "Digite um número inteiro \n",
            "0\n",
            "Programa encerrado\n"
          ]
        }
      ]
    },
    {
      "cell_type": "markdown",
      "source": [
        "#exercicio 4\n",
        "Sabe-se que não existe divisão por zero, para isso faça um programa que leia dois valores inteiros e escreva o resultado da divisão do primeiro pelo segundo. Se o segundo valor informado for ZERO, deve ser impressa uma mensagem de VALOR INVÁLIDO e uma nova leitura do segundo valor deve ser realizada. Ao final do programa deve ser impressa a seguinte mensagem: VOCÊ DESEJA OUTRO CÁLCULO (S/N). Se a resposta for S o programa deverá retornar ao começo,\n",
        "caso contrário deverá encerrar."
      ],
      "metadata": {
        "id": "2Dg9ud8hFZJi"
      }
    },
    {
      "cell_type": "code",
      "source": [
        "repeteco = \"S\"\n",
        "n2=0\n",
        "while repeteco == \"S\":\n",
        "  n1 = int(input(\"Digite o primeiro número: \\n\"))\n",
        "  n2 = 0\n",
        "  while n2 == 0:\n",
        "    n2 = int(input(\"Digite o segundo número: \\n\"))\n",
        "    if n2 == 0:\n",
        "        print(\"VALOR INVÁLIDO\")\n",
        "  total = n1/n2\n",
        "  print(total)\n",
        "  repeteco = input(\"Você gostaria de fazer outro calcula digite S para sim e N para Não:\")\n"
      ],
      "metadata": {
        "id": "lu4kPL8gFhsA"
      },
      "execution_count": null,
      "outputs": []
    },
    {
      "cell_type": "markdown",
      "source": [
        "#exercicio 5\n",
        "Faça um programa em Python que verifique a validade de uma senha fornecida pelo usuário. A senha válida é o número 1234.\n",
        "OBS: Se a senha informada pelo usuário for inválida, a mensagem \"ACESSO NEGADO\" deve ser impressa e repetida a solicitação de uma nova senha até que ela seja válida. Caso contrário deve ser impressa a mensagem \"ACESSO PERMITIDO\" junto com um número que representa quantas vezes a senha foi informada."
      ],
      "metadata": {
        "id": "2k-3mCADHSf2"
      }
    },
    {
      "cell_type": "code",
      "source": [
        "cont = 0\n",
        "senha = 0\n",
        "while senha != \"1234\":\n",
        "  senha = input(\"Digite a senha: \\n\")\n",
        "  if senha == \"1234\":\n",
        "    print(\"ACESSO PERMITIDO\")\n",
        "    cont = cont + 1\n",
        "  else:\n",
        "    print(\"ACESSO NEGADO\")\n",
        "    cont = cont + 1\n",
        "print(\"Você inseriu a senha\", cont, \"vezes\")"
      ],
      "metadata": {
        "id": "qus81GW6HceS"
      },
      "execution_count": null,
      "outputs": []
    },
    {
      "cell_type": "markdown",
      "source": [
        "#exercicio 6\n",
        "Faça um programa em Python que verifique a validade de uma senha fornecida pelo usuário. Asenha válida é o número 1234. Se a senha informada pelo usuário for válida a mensagem \"ACESSO PERMITIDO\" deve ser informada. O usuário não terá acesso ao sistema se errar a senha três vezes, neste caso a mensagem \"ACESSO NEGADO\" deve ser informada e a cada vez que o usuário errar a senha, dentro do limite, a mensagem informada será \"SENHA ERRADA, TENTATIVA X DE 3\", sendo o X o número da tentativa."
      ],
      "metadata": {
        "id": "5nrF7e70IAcV"
      }
    },
    {
      "cell_type": "code",
      "source": [
        "cont = 0\n",
        "senha = 0\n",
        "while senha != \"1234\":\n",
        "  if cont == 3:\n",
        "    print(\"ACESSO BLOQUEADO EXCESSO DE TENTATIVAS\")\n",
        "    break\n",
        "  senha = input(\"Digite a senha: \\n\")\n",
        "  if senha == \"1234\":\n",
        "    print(\"ACESSO PERMITIDO\")\n",
        "    cont = cont + 1\n",
        "  else:\n",
        "    print(\"ACESSO NEGADO\")\n",
        "    print(\"SENHA ERRADA TENTATIVA\" ,cont+1, \"DE 3\" )\n",
        "    cont = cont + 1\n"
      ],
      "metadata": {
        "id": "zmScCL3PIHik"
      },
      "execution_count": null,
      "outputs": []
    }
  ]
}